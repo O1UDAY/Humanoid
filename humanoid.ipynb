{
 "cells": [
  {
   "cell_type": "code",
   "execution_count": 1,
   "metadata": {},
   "outputs": [
    {
     "name": "stdout",
     "output_type": "stream",
     "text": [
      "Moviepy - Building video output.mp4.\n",
      "MoviePy - Writing audio in outputTEMP_MPY_wvf_snd.mp3\n"
     ]
    },
    {
     "name": "stderr",
     "output_type": "stream",
     "text": [
      "                                                                   \r"
     ]
    },
    {
     "name": "stdout",
     "output_type": "stream",
     "text": [
      "MoviePy - Done.\n",
      "Moviepy - Writing video output.mp4\n",
      "\n"
     ]
    },
    {
     "name": "stderr",
     "output_type": "stream",
     "text": [
      "                                                               \r"
     ]
    },
    {
     "name": "stdout",
     "output_type": "stream",
     "text": [
      "Moviepy - Done !\n",
      "Moviepy - video ready output.mp4\n"
     ]
    }
   ],
   "source": [
    "import moviepy\n",
    "\n",
    "from moviepy.editor import VideoFileClip,AudioFileClip, concatenate_videoclips\n",
    "\n",
    "\n",
    "video= \"robot.mp4\"\n",
    "videoclip = VideoFileClip(video)\n",
    "\n",
    "\n",
    "clip_times = [(10, 15), (30, 35), (50, 55)]  \n",
    "\n",
    "\n",
    "clips = [videoclip.subclip(start, end) for start, end in clip_times]\n",
    "\n",
    "\n",
    "reel = concatenate_videoclips(clips)\n",
    "\n",
    "if reel.duration > 30:\n",
    "    reel = reel.subclip(0, 30)\n",
    "\n",
    "\n",
    "audio = \"song.mp3\"\n",
    "audioclip = AudioFileClip(audio)\n",
    "\n",
    "\n",
    "final_audio = audioclip.subclip(0, reel.duration)\n",
    "reel = reel.set_audio(final_audio)\n",
    "\n",
    "\n",
    "if reel.duration > 30:\n",
    "    reel = reel.subclip(0, 30)\n",
    "\n",
    "\n",
    "finalclip = \"output.mp4\"\n",
    "reel.write_videofile(finalclip, codec=\"libx264\", fps=24)\n"
   ]
  }
 ],
 "metadata": {
  "kernelspec": {
   "display_name": "Python 3",
   "language": "python",
   "name": "python3"
  },
  "language_info": {
   "codemirror_mode": {
    "name": "ipython",
    "version": 3
   },
   "file_extension": ".py",
   "mimetype": "text/x-python",
   "name": "python",
   "nbconvert_exporter": "python",
   "pygments_lexer": "ipython3",
   "version": "3.11.4"
  }
 },
 "nbformat": 4,
 "nbformat_minor": 2
}
